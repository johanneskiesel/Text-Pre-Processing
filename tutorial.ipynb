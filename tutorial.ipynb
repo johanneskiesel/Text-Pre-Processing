{
 "cells": [
  {
   "cell_type": "markdown",
   "metadata": {},
   "source": [
    "# Text Preprocessing Toolkit"
   ]
  },
  {
   "cell_type": "markdown",
   "metadata": {},
   "source": [
    "## Learning Objective\n",
    "\n",
    "This tutorial will teach you the essential techniques for text preprocessing using Python and spaCy, with a focus on practical applications in social science research. You will learn how to clean, structure, and transform raw text data—making it ready for analysis, modeling, and interpretation.\n",
    "\n",
    "Text preprocessing is a critical first step in any Natural Language Processing (NLP) workflow. By mastering these methods, you will be able to:\n",
    "- Remove noise and inconsistencies from textual data\n",
    "- Standardize and normalize language for better analysis\n",
    "- Extract meaningful information for downstream tasks such as sentiment analysis, topic modeling, and entity recognition\n",
    "\n",
    "Whether you are working with survey responses, interview transcripts, or social media data, these skills will help you unlock deeper insights for your research.\n",
    "\n"
   ]
  },
  {
   "cell_type": "markdown",
   "metadata": {},
   "source": [
    "## Target Audience\n",
    "\n",
    "This project is designed for:\n",
    "\n",
    "- Researchers who want to analyze qualitative data from surveys, interviews, or media sources using modern NLP techniques.\n",
    "- Students and educators who are looking for a practical introduction to text pre-processing and its applications in social science research.\n",
    "- Data analysts and practitioners who are interested in cleaning, structuring, and extracting insights from large volumes of textual data.\n",
    "- Anyone new to NLP who wants a step-by-step notebook and clear code examples that make text processing accessible for beginners with basic Python knowledge.\n",
    "\n",
    "No prior experience with spaCy or advanced machine learning is required. The tutorial guides you through each concept, making it easy to apply these techniques on your own.\n"
   ]
  },
  {
   "cell_type": "markdown",
   "metadata": {},
   "source": [
    "## Duration \n",
    "\n",
    "~ 2 hours\n"
   ]
  },
  {
   "cell_type": "markdown",
   "metadata": {},
   "source": [
    "## Use Cases\n",
    "\n",
    "Text preprocessing is a crucial step in social science research, enabling scholars to analyze large volumes of qualitative data efficiently and accurately. Here are some practical applications:\n",
    "\n",
    "- Survey and Interview Analysis. Automatically extract key themes, sentiments, and entities from open-ended survey responses or interview transcripts. For example, lemmatization and stopword removal help in identifying the most frequent topics discussed by participants.\n",
    "- Political Discourse Analysis. Tokenization, named entity recognition, and sentiment analysis can be used to study political speeches, debates, or social media posts. Researchers can track how politicians discuss certain issues, measure emotional tone, and identify key actors or organizations.\n",
    "- Media and News Studies. Use sentence segmentation and TF-IDF keyword extraction to compare coverage of events across different news outlets. Named entity recognition helps in mapping relationships between people, places, and organizations mentioned in articles.\n",
    "- Comparative Linguistic Studies. Vocabulary comparison functions allow researchers to analyze language differences between demographic groups, regions, or time periods. This is useful for studying language evolution, cultural trends, or the impact of policy changes.\n",
    "- Public Opinion and Sentiment Tracking. Sentiment analysis provides insights into public attitudes toward policies, social issues, or brands by analyzing social media, forums, or feedback forms.\n",
    "\n",
    "By applying these techniques, social scientists can transform unstructured text into actionable data and uncover hidden patterns in texts."
   ]
  },
  {
   "cell_type": "markdown",
   "metadata": {},
   "source": [
    "## Environment Setup\n",
    "\n",
    "This tutorial is self-contained. All methods defined in it are also available in the `text_processing_toolkit.py` in the code repository.\n",
    "\n",
    "Let's start by installing and importing the necessary libraries for text processing and analysis."
   ]
  },
  {
   "cell_type": "code",
   "execution_count": null,
   "metadata": {},
   "outputs": [],
   "source": [
    "!pip install --quiet spacy==3.8.7 scikit-learn==1.7.2\n",
    "import collections\n",
    "import json\n",
    "import os\n",
    "import spacy"
   ]
  },
  {
   "cell_type": "markdown",
   "metadata": {},
   "source": [
    "To process text in some language, we need to load the appropriate spaCy model. The following functions help load and manage language models. We use the English model in this tutorial."
   ]
  },
  {
   "cell_type": "code",
   "execution_count": null,
   "metadata": {},
   "outputs": [],
   "source": [
    "def choose_spacy_model(language):\n",
    "    \"\"\"\n",
    "    Loads a spaCy language model for the specified language. If the model is not found,\n",
    "    attempts to download it and then load it.\n",
    "    \"\"\"\n",
    "    try:\n",
    "        return spacy.load(f\"{language}_core_web_sm\")  # Small model (sm) is often sufficient\n",
    "    except OSError:\n",
    "        print(f\"Model '{language}_core_web_sm' not found. Downloading...\")\n",
    "        try:\n",
    "            download_command = f\"python -m spacy download {language}_core_web_sm\"\n",
    "            exit_code = os.system(download_command)\n",
    "        except:\n",
    "            raise ValueError(f\"Language '{language}' is not supported.\")\n",
    "        return spacy.load(f\"{language}_core_web_sm\")\n",
    "\n",
    "nlp = choose_spacy_model(\"en\")  # Loading the English model as 'nlp'"
   ]
  },
  {
   "cell_type": "markdown",
   "metadata": {},
   "source": [
    "## 1. Tokenization\n",
    "\n",
    "Tokenization is the process of splitting text into individual words or tokens. This is the first step in most NLP pipelines and necessary for most advanced linguistic processing. The spaCy library adds metadata to each \"token\" that we will exploit in the next steps (the [spaCy documentation](https://spacy.io/api/token#attributes) contains the complete list). For the start, think of tokens to be like the words and punctuation marks of a text.\n",
    "\n",
    "Useful for: word frequency analyses."
   ]
  },
  {
   "cell_type": "code",
   "execution_count": null,
   "metadata": {},
   "outputs": [],
   "source": [
    "def tokenize(nlp, text):\n",
    "    \"\"\"\n",
    "    Tokenize the input text using spaCy.\n",
    "\n",
    "    Parameters:\n",
    "    - nlp: The spaCy instance.\n",
    "    - text (str): Input text.\n",
    "\n",
    "    Returns:\n",
    "    - list: List of tokens.\n",
    "    \"\"\"\n",
    "    document = nlp(text)\n",
    "    tokens = [token for token in document]\n",
    "    return tokens\n",
    "\n",
    "text = \"Natural Language Processing enables computers to understand human language with most accuracy. It also allows computers to compute with text data more effectively.\"\n",
    "tokens = tokenize(nlp, text)\n",
    "print(\"Tokens:\", tokens)"
   ]
  },
  {
   "cell_type": "markdown",
   "metadata": {},
   "source": [
    "The output displays each word and punctuation mark as a separate token. This allows us to analyze the structure and content of the text at the word level. For example to count how often each toke occurs:"
   ]
  },
  {
   "cell_type": "code",
   "execution_count": null,
   "metadata": {},
   "outputs": [],
   "source": [
    "print(collections.Counter(tokens))"
   ]
  },
  {
   "cell_type": "markdown",
   "metadata": {},
   "source": [
    "The metadata stored with each token also allows to reconstruct the original text. In this case we need the `text` attribute to get the token as simple text string and `whitespace_` attribute to tell us whether a space was after the token in the original text (e.g., this is not the case for \"accuracy\", which is directly followed by a \".\" in the original text)."
   ]
  },
  {
   "cell_type": "code",
   "execution_count": null,
   "metadata": {},
   "outputs": [],
   "source": [
    "def get_token_texts(tokens):\n",
    "    \"\"\"\n",
    "    Get the \"raw\" text of the tokens, removing all metadata.\n",
    "\n",
    "    Parameters:\n",
    "    - tokens (list): List of tokens.\n",
    "\n",
    "    Returns:\n",
    "    - list: Tokens as simple text strings.\n",
    "    \"\"\"\n",
    "    token_texts = [token.text for token in tokens]\n",
    "    return token_texts\n",
    "\n",
    "def reconstruct_text_from_tokens(tokens):\n",
    "    \"\"\"\n",
    "    Recreate the text from the tokens.\n",
    "\n",
    "    Parameters:\n",
    "    - tokens (list): List of tokens.\n",
    "\n",
    "    Returns:\n",
    "    - str: Text as string.\n",
    "    \"\"\"\n",
    "    text = \"\".join([token.text + token.whitespace_ for token in tokens])\n",
    "    return text\n",
    "\n",
    "print(get_token_texts(tokens))\n",
    "print(reconstruct_text_from_tokens(tokens))"
   ]
  },
  {
   "cell_type": "markdown",
   "metadata": {},
   "source": [
    "## 2. Removing Stopwords and Punctuation\n",
    "\n",
    "Stopwords are common words (typically function words like \"the\", \"is\", \"and\") that usually do not add significant meaning to text analysis. Removing them helps to focus on meaningful words.\n",
    "\n",
    "Useful for: keyword extraction, topic modeling."
   ]
  },
  {
   "cell_type": "code",
   "execution_count": null,
   "metadata": {},
   "outputs": [],
   "source": [
    "def remove_stopwords_from_tokens(tokens):\n",
    "    \"\"\"\n",
    "    Remove stopwords from spaCy tokens.\n",
    "\n",
    "    Parameters:\n",
    "    - tokens (list): List of tokens.\n",
    "\n",
    "    Returns:\n",
    "    - list: List of tokens without stopwords.\n",
    "    \"\"\"\n",
    "    tokens_without_stopwords = [token for token in tokens if not token.is_stop]\n",
    "    return tokens_without_stopwords\n",
    "\n",
    "def remove_punctuation_from_tokens(tokens):\n",
    "    \"\"\"\n",
    "    Remove punctuation from spaCy tokens.\n",
    "\n",
    "    Parameters:\n",
    "    - tokens (list): List of tokens.\n",
    "\n",
    "    Returns:\n",
    "    - list: List of tokens without punctuation.\n",
    "    \"\"\"\n",
    "    tokens_without_punctuation = [token for token in tokens if not token.is_punct]\n",
    "    return tokens_without_punctuation\n",
    "\n",
    "tokens_without_stopwords = remove_stopwords_from_tokens(tokens)\n",
    "tokens_without_stopwords_and_punctuation = remove_punctuation_from_tokens(tokens_without_stopwords)\n",
    "print(\"Tokens:                                  \", tokens)\n",
    "print(\"-----\")\n",
    "print(\"Tokens without stopwords:                \", tokens_without_stopwords)\n",
    "print(\"-----\")\n",
    "print(\"Tokens without stopwords and punctuation:\", tokens_without_stopwords_and_punctuation)"
   ]
  },
  {
   "cell_type": "markdown",
   "metadata": {},
   "source": [
    "**Inference:**  \n",
    "The result contains only the meaningful words, with common stopwords removed. This helps focus analysis on the most relevant terms in the text."
   ]
  },
  {
   "cell_type": "markdown",
   "metadata": {},
   "source": [
    "## 3. Lemmatization\n",
    "\n",
    "Lemmatization reduces words to their base or dictionary form (lemma). For example, \"running\" becomes \"run\".\n",
    "\n",
    "Useful for: reducing vocabulary size, improving matching in analysis."
   ]
  },
  {
   "cell_type": "code",
   "execution_count": null,
   "metadata": {},
   "outputs": [],
   "source": [
    "def lemmatize_tokens(tokens):\n",
    "    \"\"\"\n",
    "    Get the lemmas of spaCy tokens.\n",
    "\n",
    "    Parameters:\n",
    "    - tokens (list): List of tokens.\n",
    "\n",
    "    Returns:\n",
    "    - list: List of token lemmas.\n",
    "    \"\"\"\n",
    "    lemmatized_tokens = [token.lemma_ for token in tokens]\n",
    "    return lemmatized_tokens\n",
    "\n",
    "lemmatized_tokens = lemmatize_tokens(tokens)\n",
    "print(\"Tokens:           \", [token.text for token in tokens])\n",
    "print(\"-----\")\n",
    "print(\"Lemmatized tokens:\", lemmatized_tokens)"
   ]
  },
  {
   "cell_type": "markdown",
   "metadata": {},
   "source": [
    "**Inference:**  \n",
    "Each word is reduced to its base form (lemma), which standardizes variations and improves the accuracy of further text analysis. Another often used standardization is to only use the lowercase texts (`token.text.lower()` or `token.lemma_.lower()`)."
   ]
  },
  {
   "cell_type": "markdown",
   "metadata": {},
   "source": [
    "## 4. Sentence Segmentation\n",
    "\n",
    "Sentence segmentation splits text into individual sentences. This is useful for analyzing sentence structure and, for example, assessing the readability of a text (long sentences tend to be harder to read).\n",
    "\n",
    "Useful for: readability analysis, sentiment per sentence."
   ]
  },
  {
   "cell_type": "code",
   "execution_count": null,
   "metadata": {},
   "outputs": [],
   "source": [
    "def split_into_sentences(nlp, text):\n",
    "    \"\"\"\n",
    "    Split the input text in its sentences using spaCy.\n",
    "\n",
    "    Parameters:\n",
    "    - nlp: The spaCy instance.\n",
    "    - text (str): Input text.\n",
    "\n",
    "    Returns:\n",
    "    - list: List of sentences.\n",
    "    \"\"\"\n",
    "    doc = nlp(text)\n",
    "    assert doc.has_annotation(\"SENT_START\")\n",
    "    sentences = [sentence.text for sentence in doc.sents]\n",
    "    return sentences\n",
    "    \n",
    "sentences = split_into_sentences(nlp, text)\n",
    "print(\"Sentences:\", sentences)\n",
    "print(\"-----\")\n",
    "print(\"Sentence lengths (in characters):\", [len(sentence) for sentence in sentences])"
   ]
  },
  {
   "cell_type": "markdown",
   "metadata": {},
   "source": [
    "**Inference:**  \n",
    "The output lists each sentence found in the text. This segmentation allows us to analyze text structure, readability, and perform sentence-level operations such as sentiment analysis or topic detection."
   ]
  },
  {
   "cell_type": "markdown",
   "metadata": {},
   "source": [
    "## 5. Named Entity Recognition (NER)\n",
    "\n",
    "Named Entity Recognition identifies and classifies key entities in text, such as people, organizations, and locations.\n",
    "\n",
    "Useful for: extracting actors, places, and organizations from documents."
   ]
  },
  {
   "cell_type": "code",
   "execution_count": null,
   "metadata": {},
   "outputs": [],
   "source": [
    "def extract_named_entities(nlp, text):\n",
    "    \"\"\"\n",
    "    Extract named entities (people, organizations, locations, etc.) from text.\n",
    "    \n",
    "    This function identifies and extracts important entities mentioned in your text,\n",
    "    such as person names, company names, geographical locations, dates, and monetary values.\n",
    "    This is particularly useful for analyzing political speeches, news articles, or \n",
    "    interview transcripts where you want to identify key actors and locations.\n",
    "\n",
    "    Parameters:\n",
    "    - text (str): The input text to analyze (e.g., \"Barack Obama visited Paris in 2015\")\n",
    "\n",
    "    Returns:\n",
    "    - list: List of dictionaries, each containing:\n",
    "            - 'text': the entity text (e.g., \"Barack Obama\")\n",
    "            - 'label': the entity type (e.g., \"PERSON\", \"GPE\" for geopolitical entity)\n",
    "            - 'description': human-readable description of the entity type\n",
    "    \n",
    "    Example:\n",
    "    Input: \"Apple Inc. was founded by Steve Jobs in California.\"\n",
    "    Output: [{'text': 'Apple Inc.', 'label': 'ORG', 'description': 'Organization'},\n",
    "                {'text': 'Steve Jobs', 'label': 'PERSON', 'description': 'Person'},\n",
    "                {'text': 'California', 'label': 'GPE', 'description': 'Geopolitical entity'}]\n",
    "    \"\"\"\n",
    "    doc = nlp(text)\n",
    "    entities = []\n",
    "    for ent in doc.ents:\n",
    "        entities.append({\n",
    "            'text': ent.text,\n",
    "            'label': ent.label_,\n",
    "            'description': spacy.explain(ent.label_)\n",
    "        })\n",
    "    return entities\n",
    "    \n",
    "text_NER = 'The film was shot in Los Angeles and many other locations, for example Berlin.'\n",
    "entities = extract_named_entities(nlp, text_NER)\n",
    "print(\"Named Entities:\", entities)"
   ]
  },
  {
   "cell_type": "markdown",
   "metadata": {},
   "source": [
    "**Inference:**  \n",
    "The output lists the named entities found in the text, such as people, organizations, and locations. This is useful for extracting key actors and places from documents.\n",
    "\n",
    "For extended use of named entity recognition tools, e.g., to link the detected entitites to knowledge bases, see [the Entity Fishing tutorial on the Methods Hub](https://doi.org/10.71627/NERD-Entity-Fishing)."
   ]
  },
  {
   "cell_type": "markdown",
   "metadata": {},
   "source": [
    "## 6. Keyword Extraction with TF-IDF\n",
    "\n",
    "TF-IDF (Term Frequency-Inverse Document Frequency) identifies important words and phrases in a collection of documents.\n",
    "\n",
    "- Useful for: finding distinctive themes, comparing language use across groups."
   ]
  },
  {
   "cell_type": "code",
   "execution_count": null,
   "metadata": {},
   "outputs": [],
   "source": [
    "from sklearn.feature_extraction.text import TfidfVectorizer\n",
    "\n",
    "def extract_keywords_tfidf(texts, max_features=20, ngram_range=(1, 2)):\n",
    "    \"\"\"\n",
    "    Extract the most important keywords from a collection of texts using TF-IDF analysis.\n",
    "    \n",
    "    TF-IDF (Term Frequency-Inverse Document Frequency) helps identify words that are\n",
    "    important in individual documents but not too common across all documents.\n",
    "    This is excellent for finding distinctive themes in survey responses, interview\n",
    "    transcripts, or comparing different groups' language use.\n",
    "\n",
    "    Parameters:\n",
    "    - texts (list): List of text documents to analyze (e.g., survey responses)\n",
    "    - max_features (int): Maximum number of top keywords to return (default: 20)\n",
    "    - ngram_range (tuple): Range of n-grams to consider. (1,1) for single words,\n",
    "                           (1,2) for single words and two-word phrases (default: (1,2))\n",
    "\n",
    "    Returns:\n",
    "    - list: For each input document a list of tuples containing\n",
    "            (keyword, importance_score), sorted by importance (highest first)\n",
    "    \n",
    "    Example:\n",
    "    For analyzing political speeches, this might return:\n",
    "    [('economic policy', 0.45), ('healthcare reform', 0.38), ('job creation', 0.32), ...]\n",
    "    \n",
    "    Note: You need at least 2 documents for meaningful TF-IDF analysis.\n",
    "    \"\"\"\n",
    "    if len(texts) < 2:\n",
    "        raise ValueError(\"TF-IDF analysis requires at least 2 documents for comparison.\")\n",
    "    \n",
    "    vectorizer = TfidfVectorizer(max_features=max_features, ngram_range=ngram_range)\n",
    "    tfidf_matrix = vectorizer.fit_transform(texts)\n",
    "    \n",
    "    feature_names = vectorizer.get_feature_names_out()\n",
    "    keywords_per_text = []\n",
    "    for tfidf_row in tfidf_matrix:\n",
    "        scores = [float(number) for number in tfidf_row.toarray()[0]]\n",
    "        keywords_scores = list(zip(feature_names, scores))\n",
    "        keywords_scores.sort(key=lambda x: x[1], reverse=True)\n",
    "        keywords_per_text.append(keywords_scores)\n",
    "    \n",
    "    return keywords_per_text\n",
    "\n",
    "texts = [\n",
    "    \"Natural Language Processing enables computers to understand human languages and process text data efficiently.\",\n",
    "    \"Text analytics and machine learning are important for extracting insights from large volumes of textual data.\",\n",
    "    \"Deep learning models help in analyzing and comprehending complex language patterns.\"\n",
    "]\n",
    "\n",
    "# Convert text to lowercase and remove punctuation and stopwords\n",
    "processed_texts_tokens = [\n",
    "    remove_stopwords_from_tokens(\n",
    "        remove_punctuation_from_tokens(\n",
    "            tokenize(nlp, text.lower())\n",
    "        )\n",
    "    )\n",
    "    for text in texts\n",
    "]\n",
    "# Then combine the tokens again (using \" \".join) as the method required untokenized text\n",
    "processed_texts = [\n",
    "    \" \".join(get_token_texts(tokens)) for tokens in processed_texts_tokens\n",
    "]\n",
    "\n",
    "keywords_per_text = extract_keywords_tfidf(processed_texts)\n",
    "print(\"Texts:          \", texts)\n",
    "print(\"-----\")\n",
    "print(\"Processed texts:\", processed_texts)\n",
    "print(\"-----\")\n",
    "print(\"Keywords with TF-IDF-measured importance:\")\n",
    "for i in range(len(keywords_per_text)):\n",
    "    print(\"- Text \" + str(i + 1) + \":\", keywords_per_text[i])\n",
    "    print()"
   ]
  },
  {
   "cell_type": "markdown",
   "metadata": {},
   "source": [
    "**Inference:**  \n",
    "The result shows the most important keywords and phrases identified by TF-IDF across the provided documents. Typically, the documents are not just sentences but at least paragraphs and up to whole articles (originally: web pages), whereas the collection contains typically hundreds of documents. These keywords represent distinctive themes and help summarize the main topics present in the text collection.\n",
    "\n",
    "For more details and different variants, see the [Contrastive Keyword Extractor method on the Methods Hub](https://doi.org/10.71627/Comparing-Keyword-Importance-Across-Texts)."
   ]
  },
  {
   "cell_type": "markdown",
   "metadata": {},
   "source": [
    "### Keyword Extraction with TF-IDF: Lemmatized vs. Non-Lemmatized Text\n",
    "\n",
    "Keyword extraction using TF-IDF can yield different results depending on whether the input text is lemmatized. Lemmatization reduces words to their base forms, which helps group similar words and may improve the relevance of extracted keywords. Here, we compare the keywords extracted from raw text and lemmatized text.\n",
    "\n"
   ]
  },
  {
   "cell_type": "code",
   "execution_count": null,
   "metadata": {},
   "outputs": [],
   "source": [
    "# Lemmatize the tokens\n",
    "processed_texts_lemmas = [ [ token.lemma_ for token in tokens ] for tokens in processed_texts_tokens ]\n",
    "\n",
    "# Then combine the lemmas again (using \" \".join) as the method required untokenized text\n",
    "processed_lemmatized_texts = [\n",
    "    \" \".join(lemmas) for lemmas in processed_texts_lemmas\n",
    "]\n",
    "\n",
    "keywords_per_lemmatized_text = extract_keywords_tfidf(processed_lemmatized_texts)\n",
    "\n",
    "for i in range(len(keywords_per_text)):\n",
    "    print(\"Text \" + str(i + 1) + \":\")\n",
    "    print(\"- Not lemmatized\")\n",
    "    print(\"  Text:    \", processed_texts[i])\n",
    "    print(\"  Keywords:\", keywords_per_text[i])\n",
    "    print(\"- Lemmatized\")\n",
    "    print(\"  Text:    \", processed_lemmatized_texts[i])\n",
    "    print(\"  Keywords:\", keywords_per_lemmatized_text[i])\n",
    "    print()"
   ]
  },
  {
   "cell_type": "markdown",
   "metadata": {},
   "source": [
    "**Inference:**  \n",
    "The keywords extracted from lemmatized text are more standardized and may group similar concepts (e.g., for the first text, \"language\" and \"languages\" both become \"language\"). This reduces redundancy and highlights the most relevant terms. In contrast, keywords from raw text may include multiple forms of the same word, leading to less focused results. Lemmatization generally improves the quality and interpretability of keyword extraction for downstream analysis."
   ]
  },
  {
   "cell_type": "markdown",
   "metadata": {},
   "source": [
    "## 7. Basic Sentiment Analysis\n",
    "\n",
    "Sentiment analysis determines whether text expresses positive, negative, or neutral emotions. We here use a simple and very fast approach using custom word lists, as this allows you to look inside the method. In general you should rather use an existing implementation, like the ones discussed in the [Sentiment Analysis Tutorial on the Methods Hub](https://methodshub.gesis.org/library/tutorials/sentiment-analysis-tutorial).\n",
    "\n",
    "- Useful for: analyzing public opinion, customer feedback, or political discourse."
   ]
  },
  {
   "cell_type": "code",
   "execution_count": null,
   "metadata": {},
   "outputs": [],
   "source": [
    "def analyze_sentiment_basic(tokens):\n",
    "    \"\"\"\n",
    "    Perform basic sentiment analysis to determine if text expresses positive or negative emotions.\n",
    "    \n",
    "    This function analyzes the emotional tone of text by looking for positive and negative\n",
    "    words. While not as sophisticated as machine learning approaches, it provides a quick\n",
    "    way to gauge overall sentiment in survey responses, social media posts, or interviews.\n",
    "    \n",
    "    Useful for: analyzing public opinion, customer feedback, political discourse, or\n",
    "    any text where emotional tone matters for your research.\n",
    "\n",
    "    Parameters:\n",
    "    - tokens (list): List of tokens.\n",
    "\n",
    "    Returns:\n",
    "    - dict: Dictionary containing:\n",
    "            - 'sentiment': overall sentiment ('positive', 'negative', or 'neutral')\n",
    "            - 'positive_words': list of positive words found\n",
    "            - 'negative_words': list of negative words found\n",
    "            - 'score': numerical score (positive = above 0, negative = below 0)\n",
    "    \n",
    "    Example:\n",
    "    Input: tokenize(nlp, \"I love this new policy but I hate the implementation.\")\n",
    "    Output: {'sentiment': 'neutral', 'positive_words': ['love'], \n",
    "                'negative_words': ['hate'], 'score': 0}\n",
    "    \"\"\"\n",
    "    # Basic positive and negative word lists (you might want to expand these)\n",
    "    positive_words = {'good', 'great', 'excellent', 'amazing', 'wonderful', 'fantastic', \n",
    "                        'love', 'like', 'enjoy', 'happy', 'pleased', 'satisfied', 'positive',\n",
    "                        'benefit', 'advantage', 'success', 'improve', 'better', 'best'}\n",
    "    \n",
    "    negative_words = {'bad', 'terrible', 'awful', 'horrible', 'hate', 'dislike', 'angry',\n",
    "                        'sad', 'disappointed', 'frustrated', 'negative', 'problem', 'issue',\n",
    "                        'difficult', 'hard', 'impossible', 'fail', 'failure', 'worse', 'worst'}\n",
    "    \n",
    "    found_positive = []\n",
    "    found_negative = []\n",
    "    \n",
    "    for token in tokens:\n",
    "        if token.lemma_.lower() in positive_words:\n",
    "            found_positive.append(token.text)\n",
    "        elif token.lemma_.lower() in negative_words:\n",
    "            found_negative.append(token.text)\n",
    "    \n",
    "    score = len(found_positive) - len(found_negative)\n",
    "    \n",
    "    if score > 0:\n",
    "        sentiment = 'positive'\n",
    "    elif score < 0:\n",
    "        sentiment = 'negative'\n",
    "    else:\n",
    "        sentiment = 'neutral'\n",
    "    \n",
    "    return {\n",
    "        'sentiment': sentiment,\n",
    "        'positive_words': found_positive,\n",
    "        'negative_words': found_negative,\n",
    "        'score': score\n",
    "    }\n",
    "\n",
    "texts_sentiment = [\n",
    "    \"I love Natural Language Processing. It is sooo wonderful!\",\n",
    "    \"I love Natural Language Processing, but sometimes it is terrible.\",\n",
    "    \"I hate Natural Language Processing.\"\n",
    "]\n",
    "for text in texts_sentiment:\n",
    "    tokens = tokenize(nlp, text)\n",
    "    sentiment_result = analyze_sentiment_basic(tokens)\n",
    "    print(\"Text:     \", text)\n",
    "    print(\"Sentiment:\", sentiment_result[\"sentiment\"])\n",
    "    print(\"Analysis: \", sentiment_result)\n",
    "    print()"
   ]
  },
  {
   "cell_type": "markdown",
   "metadata": {},
   "source": [
    "**Inference:**  \n",
    "The sentiment score and lists of positive/negative words indicate the overall emotional tone of the text, which can be used to gauge public opinion or feedback. While state-of-the-art models use AI to also cope with negations--\"it is not wonderful!\" is rather negative, despite \"wonderful\"--, dictionary methods like the one above still perform surprisingly well and are much more efficient, which is important for big data processing.\n",
    "\n",
    "For more details, see the [Sentiment Analysis Tutorial on the Methods Hub](https://methodshub.gesis.org/library/tutorials/sentiment-analysis-tutorial)."
   ]
  },
  {
   "cell_type": "markdown",
   "metadata": {},
   "source": [
    "## 8. Text Statistics\n",
    "\n",
    "Text statistics provide quantitative measures of text complexity and structure, such as word count, sentence count, and lexical diversity.\n",
    "\n",
    "- Useful for: comparing documents, analyzing readability, and studying vocabulary richness."
   ]
  },
  {
   "cell_type": "code",
   "execution_count": null,
   "metadata": {},
   "outputs": [],
   "source": [
    "def get_text_statistics(nlp, text):\n",
    "    \"\"\"\n",
    "    Calculate comprehensive statistics about a text document.\n",
    "    \n",
    "    This function provides detailed quantitative measures of text complexity and structure.\n",
    "    These statistics are valuable for comparing different types of documents, analyzing\n",
    "    readability, or understanding the linguistic characteristics of different speakers\n",
    "    or writers in your research.\n",
    "\n",
    "    Parameters:\n",
    "    - nlp: The spaCy instance.\n",
    "    - text (str): The text to analyze.\n",
    "\n",
    "    Returns:\n",
    "    - dict: Dictionary containing detailed statistics:\n",
    "            - 'word_count': total number of words\n",
    "            - 'sentence_count': total number of sentences\n",
    "            - 'character_count': total characters (including spaces)\n",
    "            - 'avg_words_per_sentence': average sentence length\n",
    "            - 'avg_characters_per_word': average word length\n",
    "            - 'unique_words': number of unique words (vocabulary richness)\n",
    "            - 'lexical_diversity': ratio of unique words to total words (0-1 scale)\n",
    "            - 'pos_distribution': distribution of parts of speech (nouns, verbs, etc.)\n",
    "    \n",
    "    Example use cases:\n",
    "    - Compare complexity of political speeches across different candidates\n",
    "    - Analyze linguistic development in student essays\n",
    "    - Study vocabulary richness in interview responses across different demographics\n",
    "    \"\"\"\n",
    "    doc = nlp(text)\n",
    "\n",
    "    # Basic counts\n",
    "    words = [token for token in doc if not token.is_space and not token.is_punct]\n",
    "    sentences = list(doc.sents)\n",
    "    \n",
    "    word_count = len(words)\n",
    "    sentence_count = len(sentences)\n",
    "    character_count = len(text)\n",
    "    \n",
    "    # Calculate averages\n",
    "    avg_words_per_sentence = word_count / sentence_count if sentence_count > 0 else 0\n",
    "    word_lengths = [len(token.text) for token in words]\n",
    "    avg_characters_per_word = sum(word_lengths) / len(word_lengths) if word_lengths else 0\n",
    "    \n",
    "    # Vocabulary analysis\n",
    "    word_texts = [token.text.lower() for token in words if token.is_alpha]\n",
    "    unique_words = len(set(word_texts))\n",
    "    lexical_diversity = unique_words / len(word_texts) if word_texts else 0\n",
    "    \n",
    "    # Parts of speech distribution\n",
    "    pos_counts = {}\n",
    "    for token in words:\n",
    "        pos = token.pos_\n",
    "        pos_counts[pos] = pos_counts.get(pos, 0) + 1\n",
    "    \n",
    "    # Convert to percentages\n",
    "    pos_distribution = {pos: (count/word_count)*100 for pos, count in pos_counts.items()}\n",
    "    \n",
    "    return {\n",
    "        'word_count': word_count,\n",
    "        'sentence_count': sentence_count,\n",
    "        'character_count': character_count,\n",
    "        'avg_words_per_sentence': round(avg_words_per_sentence, 2),\n",
    "        'avg_characters_per_word': round(avg_characters_per_word, 2),\n",
    "        'unique_words': unique_words,\n",
    "        'lexical_diversity': round(lexical_diversity, 3),\n",
    "        'pos_distribution': pos_distribution\n",
    "    }\n",
    "\n",
    "stats = get_text_statistics(nlp, text)\n",
    "print(\"Text:\", text)\n",
    "print(\"Text Statistics:\", stats)"
   ]
  },
  {
   "cell_type": "markdown",
   "metadata": {},
   "source": [
    "**Inference:**  \n",
    "The statistics provide a quantitative overview of the text, including word and sentence counts, average lengths, vocabulary richness, and part-of-speech distribution. These metrics are useful for comparing documents, assessing complexity, and understanding linguistic characteristics."
   ]
  },
  {
   "cell_type": "markdown",
   "metadata": {
    "jp-MarkdownHeadingCollapsed": true
   },
   "source": [
    "## 9. Comparing Vocabulary Between Texts\n",
    "\n",
    "Vocabulary comparison helps identify similarities and differences in word usage between two texts.\n",
    "\n",
    "- Useful for: comparing speeches, analyzing language differences between groups, or studying terminology evolution."
   ]
  },
  {
   "cell_type": "code",
   "execution_count": null,
   "metadata": {},
   "outputs": [],
   "source": [
    "def compare_texts_vocabulary(nlp, text1, text2, top_n=10):\n",
    "    \"\"\"\n",
    "    Compare the vocabulary usage between two texts to identify similarities and differences.\n",
    "    \n",
    "    This function is particularly useful for comparative analysis in social science research,\n",
    "    such as comparing political speeches from different parties, analyzing language differences\n",
    "    between demographic groups, or studying how language use changes over time.\n",
    "\n",
    "    Parameters:\n",
    "    - nlp: The spaCy instance.\n",
    "    - text1 (str): First text for comparison\n",
    "    - text2 (str): Second text for comparison  \n",
    "    - top_n (int): Number of top unique words to return for each text (default: 10)\n",
    "\n",
    "    Returns:\n",
    "    - dict: Dictionary containing:\n",
    "            - 'common_words': words that appear in both texts with their frequencies\n",
    "            - 'unique_to_text1': words that appear only in the first text\n",
    "            - 'unique_to_text2': words that appear only in the second text\n",
    "            - 'similarity_score': percentage of vocabulary overlap (0-100)\n",
    "    \n",
    "    Example use cases:\n",
    "    - Compare campaign speeches from different political candidates\n",
    "    - Analyze language differences between age groups in survey responses\n",
    "    - Study evolution of terminology in policy documents over time\n",
    "    \"\"\"\n",
    "    # Process both texts\n",
    "    doc1 = nlp(text1.lower())\n",
    "    doc2 = nlp(text2.lower())\n",
    "    \n",
    "    # Extract meaningful words (no stopwords, punctuation, or short words)\n",
    "    words1 = [token.lemma_ for token in doc1 if not token.is_stop and not token.is_punct \n",
    "                and token.is_alpha and len(token.text) > 2]\n",
    "    words2 = [token.lemma_ for token in doc2 if not token.is_stop and not token.is_punct \n",
    "                and token.is_alpha and len(token.text) > 2]\n",
    "    \n",
    "    # Count word frequencies\n",
    "    freq1 = collections.Counter(words1)\n",
    "    freq2 = collections.Counter(words2)\n",
    "    \n",
    "    # Find common and unique words\n",
    "    set1 = set(freq1.keys())\n",
    "    set2 = set(freq2.keys())\n",
    "    \n",
    "    common_words = {}\n",
    "    for word in set1.intersection(set2):\n",
    "        common_words[word] = {'text1_frequency': freq1[word], 'text2_frequency': freq2[word]}\n",
    "    \n",
    "    unique_to_text1 = {word: freq1[word] for word in set1 - set2}\n",
    "    unique_to_text2 = {word: freq2[word] for word in set2 - set1}\n",
    "    \n",
    "    # Sort by frequency and get top N\n",
    "    unique_to_text1 = dict(sorted(unique_to_text1.items(), key=lambda x: x[1], reverse=True)[:top_n])\n",
    "    unique_to_text2 = dict(sorted(unique_to_text2.items(), key=lambda x: x[1], reverse=True)[:top_n])\n",
    "    \n",
    "    # Calculate similarity score\n",
    "    total_unique_words = len(set1.union(set2))\n",
    "    similarity_score = (len(common_words) / total_unique_words * 100) if total_unique_words > 0 else 0\n",
    "    \n",
    "    return {\n",
    "        'common_words': common_words,\n",
    "        'unique_to_text1': unique_to_text1,\n",
    "        'unique_to_text2': unique_to_text2,\n",
    "        'similarity_score': round(similarity_score, 2)\n",
    "    }\n",
    "\n",
    "# Two dissimilar texts for vocabulary comparison\n",
    "text1 = \"Natural Language Processing enables computers to understand human language.\"\n",
    "text2 = \"Machine learning and deep learning are important for artificial intelligence.\"\n",
    "\n",
    "comparison = compare_texts_vocabulary(nlp, text1, text2)\n",
    "print(\"Vocabulary Comparison (dissimilar):\")\n",
    "print(json.dumps(comparison, indent=4))\n",
    "print()\n",
    "\n",
    "# Two similar texts for vocabulary comparison\n",
    "text1 = \"Natural Language Processing helps computers understand human language and analyze text data efficiently.\"\n",
    "text2 = \"Text analytics and Natural Language Processing enable machines to process and comprehend human language quickly.\"\n",
    "\n",
    "# Compare vocabulary usage between the two texts\n",
    "comparison = compare_texts_vocabulary(nlp, text1, text2)\n",
    "print(\"Vocabulary Comparison (similar):\")\n",
    "print(json.dumps(comparison, indent=4))"
   ]
  },
  {
   "cell_type": "markdown",
   "metadata": {},
   "source": [
    "**Inference:**  \n",
    "The comparison highlights common and unique words between two texts, helping us understand similarities and differences in language use."
   ]
  },
  {
   "cell_type": "markdown",
   "metadata": {},
   "source": [
    "## Conclusion\n",
    "\n",
    "In this tutorial, we explored a comprehensive set of text pre-processing techniques using Python, spaCy, and scikit-learn. Starting from basic tokenization and stopword removal, we progressed through lemmatization, sentence segmentation, named entity recognition, and keyword extraction with TF-IDF. We also covered sentiment analysis, text statistics, and vocabulary comparison between texts.\n",
    "\n",
    "These foundational steps are essential for preparing and analyzing textual data in any Natural Language Processing (NLP) project. By mastering these techniques, you can unlock deeper insights from your data, improve the performance of downstream models, and make your analyses more robust and interpretable.\n",
    "\n",
    "Feel free to experiment further with your own texts and datasets. Text pre-processing is a powerful tool—use it to make your NLP workflows more effective and"
   ]
  }
 ],
 "metadata": {
  "kernelspec": {
   "display_name": "Python 3 (ipykernel)",
   "language": "python",
   "name": "python3"
  },
  "language_info": {
   "codemirror_mode": {
    "name": "ipython",
    "version": 3
   },
   "file_extension": ".py",
   "mimetype": "text/x-python",
   "name": "python",
   "nbconvert_exporter": "python",
   "pygments_lexer": "ipython3",
   "version": "3.12.3"
  }
 },
 "nbformat": 4,
 "nbformat_minor": 4
}
