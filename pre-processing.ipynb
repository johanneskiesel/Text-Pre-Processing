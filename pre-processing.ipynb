{
 "cells": [
  {
   "cell_type": "markdown",
   "metadata": {},
   "source": [
    "# Text Pre-Processing Techniques with spaCy and scikit-learn\n",
    "\n",
    "This notebook demonstrates essential text pre-processing techniques for Natural Language Processing (NLP) using Python. We use spaCy for linguistic analysis and scikit-learn for keyword extraction. Each section introduces a concept, explains its importance, and provides code to apply it."
   ]
  },
  {
   "cell_type": "markdown",
   "metadata": {},
   "source": [
    "## Social Science Use Cases for Text Pre-Processing\n",
    "\n",
    "Text pre-processing is a crucial step in social science research, enabling scholars to analyze large volumes of qualitative data efficiently and accurately. Here are some practical applications:\n",
    "\n",
    "- **Survey and Interview Analysis:**  \n",
    "  Automatically extract key themes, sentiments, and entities from open-ended survey responses or interview transcripts. For example, lemmatization and stopword removal help in identifying the most frequent topics discussed by participants.\n",
    "\n",
    "- **Political Discourse Analysis:**  \n",
    "  Tokenization, named entity recognition, and sentiment analysis can be used to study political speeches, debates, or social media posts. Researchers can track how politicians discuss certain issues, measure emotional tone, and identify key actors or organizations.\n",
    "\n",
    "- **Media and News Studies:**  \n",
    "  Use sentence segmentation and TF-IDF keyword extraction to compare coverage of events across different news outlets. Named entity recognition helps in mapping relationships between people, places, and organizations mentioned in articles.\n",
    "\n",
    "- **Comparative Linguistic Studies:**  \n",
    "  Vocabulary comparison functions allow researchers to analyze language differences between demographic groups, regions, or time periods. This is useful for studying language evolution, cultural trends, or the impact of policy changes.\n",
    "\n",
    "- **Public Opinion and Sentiment Tracking:**  \n",
    "  Sentiment analysis provides insights into public attitudes toward policies, social issues, or brands by analyzing social media, forums, or feedback forms.\n",
    "\n",
    "By applying these techniques, social scientists can transform unstructured text into actionable data, uncover hidden patterns, and support evidence-based decision-making in"
   ]
  },
  {
   "cell_type": "markdown",
   "metadata": {},
   "source": [
    "## 1. Setup: Installing & Importing Libraries\n",
    "\n",
    "Let's start by installing and importing the necessary libraries for text processing and analysis."
   ]
  },
  {
   "cell_type": "code",
   "execution_count": 1,
   "metadata": {},
   "outputs": [
    {
     "name": "stdout",
     "output_type": "stream",
     "text": [
      "Requirement already satisfied: spacy in /Users/shyam/miniconda/envs/uni/lib/python3.10/site-packages (from -r requirements.txt (line 1)) (3.8.7)\n",
      "Requirement already satisfied: scikit-learn in /Users/shyam/miniconda/envs/uni/lib/python3.10/site-packages (from -r requirements.txt (line 2)) (1.5.2)\n",
      "Requirement already satisfied: numpy in /Users/shyam/miniconda/envs/uni/lib/python3.10/site-packages (from -r requirements.txt (line 3)) (1.24.3)\n",
      "Requirement already satisfied: spacy-legacy<3.1.0,>=3.0.11 in /Users/shyam/miniconda/envs/uni/lib/python3.10/site-packages (from spacy->-r requirements.txt (line 1)) (3.0.12)\n",
      "Requirement already satisfied: spacy-loggers<2.0.0,>=1.0.0 in /Users/shyam/miniconda/envs/uni/lib/python3.10/site-packages (from spacy->-r requirements.txt (line 1)) (1.0.5)\n",
      "Requirement already satisfied: murmurhash<1.1.0,>=0.28.0 in /Users/shyam/miniconda/envs/uni/lib/python3.10/site-packages (from spacy->-r requirements.txt (line 1)) (1.0.13)\n",
      "Requirement already satisfied: cymem<2.1.0,>=2.0.2 in /Users/shyam/miniconda/envs/uni/lib/python3.10/site-packages (from spacy->-r requirements.txt (line 1)) (2.0.11)\n",
      "Requirement already satisfied: preshed<3.1.0,>=3.0.2 in /Users/shyam/miniconda/envs/uni/lib/python3.10/site-packages (from spacy->-r requirements.txt (line 1)) (3.0.10)\n",
      "Requirement already satisfied: thinc<8.4.0,>=8.3.4 in /Users/shyam/miniconda/envs/uni/lib/python3.10/site-packages (from spacy->-r requirements.txt (line 1)) (8.3.6)\n",
      "Requirement already satisfied: wasabi<1.2.0,>=0.9.1 in /Users/shyam/miniconda/envs/uni/lib/python3.10/site-packages (from spacy->-r requirements.txt (line 1)) (1.1.3)\n",
      "Requirement already satisfied: srsly<3.0.0,>=2.4.3 in /Users/shyam/miniconda/envs/uni/lib/python3.10/site-packages (from spacy->-r requirements.txt (line 1)) (2.5.1)\n",
      "Requirement already satisfied: catalogue<2.1.0,>=2.0.6 in /Users/shyam/miniconda/envs/uni/lib/python3.10/site-packages (from spacy->-r requirements.txt (line 1)) (2.0.10)\n",
      "Requirement already satisfied: weasel<0.5.0,>=0.1.0 in /Users/shyam/miniconda/envs/uni/lib/python3.10/site-packages (from spacy->-r requirements.txt (line 1)) (0.4.1)\n",
      "Requirement already satisfied: typer<1.0.0,>=0.3.0 in /Users/shyam/miniconda/envs/uni/lib/python3.10/site-packages (from spacy->-r requirements.txt (line 1)) (0.16.0)\n",
      "Requirement already satisfied: tqdm<5.0.0,>=4.38.0 in /Users/shyam/miniconda/envs/uni/lib/python3.10/site-packages (from spacy->-r requirements.txt (line 1)) (4.67.1)\n",
      "Requirement already satisfied: requests<3.0.0,>=2.13.0 in /Users/shyam/miniconda/envs/uni/lib/python3.10/site-packages (from spacy->-r requirements.txt (line 1)) (2.32.3)\n",
      "Requirement already satisfied: pydantic!=1.8,!=1.8.1,<3.0.0,>=1.7.4 in /Users/shyam/miniconda/envs/uni/lib/python3.10/site-packages (from spacy->-r requirements.txt (line 1)) (2.11.7)\n",
      "Requirement already satisfied: jinja2 in /Users/shyam/miniconda/envs/uni/lib/python3.10/site-packages (from spacy->-r requirements.txt (line 1)) (3.1.4)\n",
      "Requirement already satisfied: setuptools in /Users/shyam/miniconda/envs/uni/lib/python3.10/site-packages (from spacy->-r requirements.txt (line 1)) (72.1.0)\n",
      "Requirement already satisfied: packaging>=20.0 in /Users/shyam/miniconda/envs/uni/lib/python3.10/site-packages (from spacy->-r requirements.txt (line 1)) (24.2)\n",
      "Requirement already satisfied: langcodes<4.0.0,>=3.2.0 in /Users/shyam/miniconda/envs/uni/lib/python3.10/site-packages (from spacy->-r requirements.txt (line 1)) (3.5.0)\n",
      "Requirement already satisfied: scipy>=1.6.0 in /Users/shyam/miniconda/envs/uni/lib/python3.10/site-packages (from scikit-learn->-r requirements.txt (line 2)) (1.12.0)\n",
      "Requirement already satisfied: joblib>=1.2.0 in /Users/shyam/miniconda/envs/uni/lib/python3.10/site-packages (from scikit-learn->-r requirements.txt (line 2)) (1.4.2)\n",
      "Requirement already satisfied: threadpoolctl>=3.1.0 in /Users/shyam/miniconda/envs/uni/lib/python3.10/site-packages (from scikit-learn->-r requirements.txt (line 2)) (3.5.0)\n",
      "Requirement already satisfied: language-data>=1.2 in /Users/shyam/miniconda/envs/uni/lib/python3.10/site-packages (from langcodes<4.0.0,>=3.2.0->spacy->-r requirements.txt (line 1)) (1.3.0)\n",
      "Requirement already satisfied: annotated-types>=0.6.0 in /Users/shyam/miniconda/envs/uni/lib/python3.10/site-packages (from pydantic!=1.8,!=1.8.1,<3.0.0,>=1.7.4->spacy->-r requirements.txt (line 1)) (0.7.0)\n",
      "Requirement already satisfied: pydantic-core==2.33.2 in /Users/shyam/miniconda/envs/uni/lib/python3.10/site-packages (from pydantic!=1.8,!=1.8.1,<3.0.0,>=1.7.4->spacy->-r requirements.txt (line 1)) (2.33.2)\n",
      "Requirement already satisfied: typing-extensions>=4.12.2 in /Users/shyam/miniconda/envs/uni/lib/python3.10/site-packages (from pydantic!=1.8,!=1.8.1,<3.0.0,>=1.7.4->spacy->-r requirements.txt (line 1)) (4.12.2)\n",
      "Requirement already satisfied: typing-inspection>=0.4.0 in /Users/shyam/miniconda/envs/uni/lib/python3.10/site-packages (from pydantic!=1.8,!=1.8.1,<3.0.0,>=1.7.4->spacy->-r requirements.txt (line 1)) (0.4.1)\n",
      "Requirement already satisfied: charset-normalizer<4,>=2 in /Users/shyam/miniconda/envs/uni/lib/python3.10/site-packages (from requests<3.0.0,>=2.13.0->spacy->-r requirements.txt (line 1)) (3.3.2)\n",
      "Requirement already satisfied: idna<4,>=2.5 in /Users/shyam/miniconda/envs/uni/lib/python3.10/site-packages (from requests<3.0.0,>=2.13.0->spacy->-r requirements.txt (line 1)) (3.7)\n",
      "Requirement already satisfied: urllib3<3,>=1.21.1 in /Users/shyam/miniconda/envs/uni/lib/python3.10/site-packages (from requests<3.0.0,>=2.13.0->spacy->-r requirements.txt (line 1)) (2.3.0)\n",
      "Requirement already satisfied: certifi>=2017.4.17 in /Users/shyam/miniconda/envs/uni/lib/python3.10/site-packages (from requests<3.0.0,>=2.13.0->spacy->-r requirements.txt (line 1)) (2024.12.14)\n",
      "Requirement already satisfied: blis<1.4.0,>=1.3.0 in /Users/shyam/miniconda/envs/uni/lib/python3.10/site-packages (from thinc<8.4.0,>=8.3.4->spacy->-r requirements.txt (line 1)) (1.3.0)\n",
      "Requirement already satisfied: confection<1.0.0,>=0.0.1 in /Users/shyam/miniconda/envs/uni/lib/python3.10/site-packages (from thinc<8.4.0,>=8.3.4->spacy->-r requirements.txt (line 1)) (0.1.5)\n",
      "INFO: pip is looking at multiple versions of thinc to determine which version is compatible with other requirements. This could take a while.\n",
      "Collecting thinc<8.4.0,>=8.3.4 (from spacy->-r requirements.txt (line 1))\n",
      "  Downloading thinc-8.3.4-cp310-cp310-macosx_10_9_x86_64.whl.metadata (15 kB)\n",
      "Collecting blis<1.3.0,>=1.2.0 (from thinc<8.4.0,>=8.3.4->spacy->-r requirements.txt (line 1))\n",
      "  Downloading blis-1.2.1-cp310-cp310-macosx_10_9_x86_64.whl.metadata (7.4 kB)\n",
      "Requirement already satisfied: click>=8.0.0 in /Users/shyam/miniconda/envs/uni/lib/python3.10/site-packages (from typer<1.0.0,>=0.3.0->spacy->-r requirements.txt (line 1)) (8.2.1)\n",
      "Requirement already satisfied: shellingham>=1.3.0 in /Users/shyam/miniconda/envs/uni/lib/python3.10/site-packages (from typer<1.0.0,>=0.3.0->spacy->-r requirements.txt (line 1)) (1.5.4)\n",
      "Requirement already satisfied: rich>=10.11.0 in /Users/shyam/miniconda/envs/uni/lib/python3.10/site-packages (from typer<1.0.0,>=0.3.0->spacy->-r requirements.txt (line 1)) (13.9.4)\n",
      "Requirement already satisfied: cloudpathlib<1.0.0,>=0.7.0 in /Users/shyam/miniconda/envs/uni/lib/python3.10/site-packages (from weasel<0.5.0,>=0.1.0->spacy->-r requirements.txt (line 1)) (0.21.1)\n",
      "Requirement already satisfied: smart-open<8.0.0,>=5.2.1 in /Users/shyam/miniconda/envs/uni/lib/python3.10/site-packages (from weasel<0.5.0,>=0.1.0->spacy->-r requirements.txt (line 1)) (7.3.0.post1)\n",
      "Requirement already satisfied: MarkupSafe>=2.0 in /Users/shyam/miniconda/envs/uni/lib/python3.10/site-packages (from jinja2->spacy->-r requirements.txt (line 1)) (2.1.3)\n",
      "Requirement already satisfied: marisa-trie>=1.1.0 in /Users/shyam/miniconda/envs/uni/lib/python3.10/site-packages (from language-data>=1.2->langcodes<4.0.0,>=3.2.0->spacy->-r requirements.txt (line 1)) (1.2.1)\n",
      "Requirement already satisfied: markdown-it-py>=2.2.0 in /Users/shyam/miniconda/envs/uni/lib/python3.10/site-packages (from rich>=10.11.0->typer<1.0.0,>=0.3.0->spacy->-r requirements.txt (line 1)) (3.0.0)\n",
      "Requirement already satisfied: pygments<3.0.0,>=2.13.0 in /Users/shyam/miniconda/envs/uni/lib/python3.10/site-packages (from rich>=10.11.0->typer<1.0.0,>=0.3.0->spacy->-r requirements.txt (line 1)) (2.15.1)\n",
      "Requirement already satisfied: wrapt in /Users/shyam/miniconda/envs/uni/lib/python3.10/site-packages (from smart-open<8.0.0,>=5.2.1->weasel<0.5.0,>=0.1.0->spacy->-r requirements.txt (line 1)) (1.17.2)\n",
      "Requirement already satisfied: mdurl~=0.1 in /Users/shyam/miniconda/envs/uni/lib/python3.10/site-packages (from markdown-it-py>=2.2.0->rich>=10.11.0->typer<1.0.0,>=0.3.0->spacy->-r requirements.txt (line 1)) (0.1.2)\n",
      "Downloading thinc-8.3.4-cp310-cp310-macosx_10_9_x86_64.whl (843 kB)\n",
      "\u001b[2K   \u001b[90m━━━━━━━━━━━━━━━━━━━━━━━━━━━━━━━━━━━━━━━━\u001b[0m \u001b[32m843.9/843.9 kB\u001b[0m \u001b[31m8.2 MB/s\u001b[0m eta \u001b[36m0:00:00\u001b[0m\n",
      "\u001b[?25hDownloading blis-1.2.1-cp310-cp310-macosx_10_9_x86_64.whl (7.0 MB)\n",
      "\u001b[2K   \u001b[90m━━━━━━━━━━━━━━━━━━━━━━━━━━━━━━━━━━━━━━━━\u001b[0m \u001b[32m7.0/7.0 MB\u001b[0m \u001b[31m10.9 MB/s\u001b[0m eta \u001b[36m0:00:00\u001b[0m00:01\u001b[0m00:01\u001b[0m\n",
      "\u001b[?25hInstalling collected packages: blis, thinc\n",
      "  Attempting uninstall: blis\n",
      "    Found existing installation: blis 1.3.0\n",
      "    Uninstalling blis-1.3.0:\n",
      "      Successfully uninstalled blis-1.3.0\n",
      "  Attempting uninstall: thinc\n",
      "    Found existing installation: thinc 8.3.6\n",
      "    Uninstalling thinc-8.3.6:\n",
      "      Successfully uninstalled thinc-8.3.6\n",
      "Successfully installed blis-1.2.1 thinc-8.3.4\n"
     ]
    }
   ],
   "source": [
    "!pip install -r requirements.txt"
   ]
  },
  {
   "cell_type": "code",
   "execution_count": 2,
   "metadata": {},
   "outputs": [],
   "source": [
    "import spacy\n",
    "from sklearn.feature_extraction.text import TfidfVectorizer\n",
    "from collections import Counter\n",
    "import os\n",
    "## we will use the pre_processing module for all text pre-processing tasks\n",
    "from pre_processing import *"
   ]
  },
  {
   "cell_type": "markdown",
   "metadata": {},
   "source": [
    "## 2. Loading spaCy Language Models\n",
    "\n",
    "To process text in different languages, we need to load the appropriate spaCy model. The following functions help load and manage language models."
   ]
  },
  {
   "cell_type": "code",
   "execution_count": 3,
   "metadata": {},
   "outputs": [
    {
     "name": "stdout",
     "output_type": "stream",
     "text": [
      "Model 'en_core_web_sm' not found. Downloading...\n",
      "Collecting en-core-web-sm==3.8.0\n",
      "  Downloading https://github.com/explosion/spacy-models/releases/download/en_core_web_sm-3.8.0/en_core_web_sm-3.8.0-py3-none-any.whl (12.8 MB)\n",
      "\u001b[2K     \u001b[90m━━━━━━━━━━━━━━━━━━━━━━━━━━━━━━━━━━━━━━━━\u001b[0m \u001b[32m12.8/12.8 MB\u001b[0m \u001b[31m10.8 MB/s\u001b[0m eta \u001b[36m0:00:00\u001b[0ma \u001b[36m0:00:01\u001b[0m\n",
      "\u001b[?25hInstalling collected packages: en-core-web-sm\n",
      "Successfully installed en-core-web-sm-3.8.0\n",
      "\u001b[38;5;2m✔ Download and installation successful\u001b[0m\n",
      "You can now load the package via spacy.load('en_core_web_sm')\n"
     ]
    }
   ],
   "source": [
    "def get_model(language):\n",
    "    \"\"\"\n",
    "    Loads a spaCy language model for the specified language. If the model is not found,\n",
    "    attempts to download it and then load it.\n",
    "    \"\"\"\n",
    "    try:\n",
    "        return spacy.load(f\"{language}_core_web_sm\")\n",
    "    except OSError:\n",
    "        print(f\"Model '{language}_core_web_sm' not found. Downloading...\")\n",
    "        try:\n",
    "            download_command = f\"python -m spacy download {language}_core_web_sm\"\n",
    "            exit_code = os.system(download_command)\n",
    "        except:\n",
    "            raise ValueError(f\"Language '{language}' is not supported.\")\n",
    "        return spacy.load(f\"{language}_core_web_sm\")\n",
    "\n",
    "def choose_spacy_model(language):\n",
    "    \"\"\"\n",
    "    Choose the appropriate spaCy language model based on the input language.\n",
    "    \"\"\"\n",
    "    return get_model(language)\n",
    "\n",
    "nlp = choose_spacy_model(\"en\")  # Default to English model, can be changed as needed"
   ]
  },
  {
   "cell_type": "markdown",
   "metadata": {},
   "source": [
    "## 3. Tokenization\n",
    "\n",
    "**Tokenization** is the process of splitting text into individual words or tokens. This is the first step in most NLP pipelines.\n",
    "\n",
    "- Useful for: word frequency analysis, further linguistic processing."
   ]
  },
  {
   "cell_type": "code",
   "execution_count": 4,
   "metadata": {},
   "outputs": [
    {
     "name": "stdout",
     "output_type": "stream",
     "text": [
      "Tokens: ['Natural', 'Language', 'Processing', 'enables', 'computers', 'to', 'understand', 'human', 'language', 'with', 'most', 'accuracy', '.', 'it', 'also', 'allows', 'for', 'analyzing', 'text', 'data', 'more', 'effectively', '.']\n"
     ]
    }
   ],
   "source": [
    "text = \"Natural Language Processing enables computers to understand human language with most accuracy. it also allows for analyzing text data more effectively.\"\n",
    "\n",
    "def tokenize_text(text):\n",
    "    \"\"\"\n",
    "    Tokenize the input text using spaCy.\n",
    "    \"\"\"\n",
    "    doc = nlp(text)\n",
    "    tokens = [token.text for token in doc]\n",
    "    return tokens\n",
    "\n",
    "tokens = tokenize_text(text)\n",
    "print(\"Tokens:\", tokens)"
   ]
  },
  {
   "cell_type": "markdown",
   "metadata": {},
   "source": [
    "## 4. Removing Stopwords\n",
    "\n",
    "**Stopwords** are common words (like \"the\", \"is\", \"and\") that usually do not add significant meaning to text analysis. Removing them helps focus on meaningful words.\n",
    "\n",
    "- Useful for: keyword extraction, topic modeling."
   ]
  },
  {
   "cell_type": "code",
   "execution_count": 5,
   "metadata": {},
   "outputs": [
    {
     "name": "stdout",
     "output_type": "stream",
     "text": [
      "Tokens without stopwords: ['Natural', 'Language', 'Processing', 'enables', 'computers', 'understand', 'human', 'language', 'accuracy', '.', 'allows', 'analyzing', 'text', 'data', 'effectively', '.']\n"
     ]
    }
   ],
   "source": [
    "def remove_stopwords(text):\n",
    "    \"\"\"\n",
    "    Remove stopwords from the input text using spaCy.\n",
    "    \"\"\"\n",
    "    doc = nlp(text)\n",
    "    tokens_without_stopwords = [token.text for token in doc if not token.is_stop]\n",
    "    return tokens_without_stopwords\n",
    "\n",
    "print(\"Tokens without stopwords:\", remove_stopwords(text))"
   ]
  },
  {
   "cell_type": "markdown",
   "metadata": {},
   "source": [
    "## 5. Lemmatization\n",
    "\n",
    "**Lemmatization** reduces words to their base or dictionary form (lemma). For example, \"running\" becomes \"run\".\n",
    "\n",
    "- Useful for: reducing vocabulary size, improving matching in analysis."
   ]
  },
  {
   "cell_type": "code",
   "execution_count": 6,
   "metadata": {},
   "outputs": [
    {
     "name": "stdout",
     "output_type": "stream",
     "text": [
      "Lemmatized tokens: ['Natural', 'Language', 'processing', 'enable', 'computer', 'to', 'understand', 'human', 'language', 'with', 'most', 'accuracy', '.', 'it', 'also', 'allow', 'for', 'analyze', 'text', 'datum', 'more', 'effectively', '.']\n"
     ]
    }
   ],
   "source": [
    "def lemmatize_text(text):\n",
    "    \"\"\"\n",
    "    Lemmatize the input text using spaCy.\n",
    "    \"\"\"\n",
    "    doc = nlp(text)\n",
    "    lemmatized_tokens = [token.lemma_ for token in doc]\n",
    "    return lemmatized_tokens\n",
    "lemmatized_tokens = lemmatize_text(text)\n",
    "print(\"Lemmatized tokens:\", lemmatized_tokens)"
   ]
  },
  {
   "cell_type": "markdown",
   "metadata": {},
   "source": [
    "## 6. Sentence Segmentation\n",
    "\n",
    "**Sentence segmentation** splits text into individual sentences. This is useful for analyzing sentence structure and readability.\n",
    "\n",
    "- Useful for: readability analysis, sentiment per sentence."
   ]
  },
  {
   "cell_type": "code",
   "execution_count": 7,
   "metadata": {},
   "outputs": [
    {
     "name": "stdout",
     "output_type": "stream",
     "text": [
      "Sentences: ['Natural Language Processing enables computers to understand human language with most accuracy.', 'it also allows for analyzing text data more effectively.']\n"
     ]
    }
   ],
   "source": [
    "def split_sentences(text):\n",
    "    \"\"\"\n",
    "    Split the input text into its sentences using spaCy.\n",
    "    \"\"\"\n",
    "    doc = nlp(text)\n",
    "    assert doc.has_annotation(\"SENT_START\")\n",
    "    splitted_sentences = [sentence.text for sentence in doc.sents]\n",
    "    return splitted_sentences\n",
    "sentences = split_sentences(text)\n",
    "print(\"Sentences:\", sentences)"
   ]
  },
  {
   "cell_type": "markdown",
   "metadata": {},
   "source": [
    "## 7. Named Entity Recognition (NER)\n",
    "\n",
    "**Named Entity Recognition** identifies and classifies key entities in text, such as people, organizations, and locations.\n",
    "\n",
    "- Useful for: extracting actors, places, and organizations from documents."
   ]
  },
  {
   "cell_type": "code",
   "execution_count": 8,
   "metadata": {},
   "outputs": [
    {
     "name": "stdout",
     "output_type": "stream",
     "text": [
      "Named Entities: [{'text': 'los angeles', 'label': 'GPE', 'description': 'Countries, cities, states'}]\n"
     ]
    }
   ],
   "source": [
    "text_NER = 'the film starring leonardo dicaprio was shot in los angeles and many other locations.'\n",
    "def extract_named_entities(text):\n",
    "    \"\"\"\n",
    "    Extract named entities (people, organizations, locations, etc.) from text.\n",
    "    \"\"\"\n",
    "    doc = nlp(text)\n",
    "    entities = []\n",
    "    for ent in doc.ents:\n",
    "        entities.append({\n",
    "            'text': ent.text,\n",
    "            'label': ent.label_,\n",
    "            'description': spacy.explain(ent.label_)\n",
    "        })\n",
    "    return entities\n",
    "entities = extract_named_entities(text_NER)\n",
    "print(\"Named Entities:\", entities)"
   ]
  },
  {
   "cell_type": "markdown",
   "metadata": {},
   "source": [
    "## 8. Keyword Extraction with TF-IDF\n",
    "\n",
    "**TF-IDF (Term Frequency-Inverse Document Frequency)** highlights important words and phrases in a collection of documents.\n",
    "\n",
    "- Useful for: finding distinctive themes, comparing language use across groups."
   ]
  },
  {
   "cell_type": "code",
   "execution_count": 9,
   "metadata": {},
   "outputs": [
    {
     "name": "stdout",
     "output_type": "stream",
     "text": [
      "TF-IDF Keywords: [('learning', 0.22222222222222224), ('language', 0.20100756305184245), ('analytic', 0.13608276348795434), ('large', 0.13608276348795434), ('large volume', 0.13608276348795434), ('text', 0.13608276348795434), ('text analytic', 0.13608276348795434), ('volume', 0.13608276348795434), ('intelligence', 0.11111111111111112), ('learning deep', 0.11111111111111112), ('learning important', 0.11111111111111112), ('machine', 0.11111111111111112), ('machine learning', 0.11111111111111112), ('language processing', 0.10050378152592122), ('natural', 0.10050378152592122), ('natural language', 0.10050378152592122), ('processing', 0.10050378152592122), ('processing enable', 0.10050378152592122), ('understand', 0.10050378152592122), ('understand human', 0.10050378152592122)]\n"
     ]
    }
   ],
   "source": [
    "def extract_keywords_tfidf(texts, max_features=20, ngram_range=(1, 2)):\n",
    "    \"\"\"\n",
    "    Extract the most important keywords from a collection of texts using TF-IDF analysis.\n",
    "    \"\"\"\n",
    "    if len(texts) < 2:\n",
    "        raise ValueError(\"TF-IDF analysis requires at least 2 documents for comparison.\")\n",
    "    processed_texts = []\n",
    "    for text in texts:\n",
    "        doc = nlp(text)\n",
    "        processed_text = ' '.join([token.lemma_.lower() for token in doc\n",
    "                                   if not token.is_stop and not token.is_punct\n",
    "                                   and len(token.text) > 2])\n",
    "        processed_texts.append(processed_text)\n",
    "    vectorizer = TfidfVectorizer(max_features=max_features, ngram_range=ngram_range)\n",
    "    tfidf_matrix = vectorizer.fit_transform(processed_texts)\n",
    "    feature_names = vectorizer.get_feature_names_out()\n",
    "    mean_scores = tfidf_matrix.mean(axis=0).A1\n",
    "    keywords_scores = list(zip(feature_names, mean_scores))\n",
    "    keywords_scores.sort(key=lambda x: x[1], reverse=True)\n",
    "    return keywords_scores\n",
    "\n",
    "texts = [\n",
    "    \"Natural Language Processing enables computers to understand human language.\",\n",
    "    \"Machine learning and deep learning are important for artificial intelligence.\",\n",
    "    \"Text analytics helps in extracting insights from large volumes of data.\"\n",
    "]\n",
    "\n",
    "keywords = extract_keywords_tfidf(texts)\n",
    "print(\"TF-IDF Keywords:\", keywords)"
   ]
  },
  {
   "cell_type": "markdown",
   "metadata": {},
   "source": [
    "## 9. Basic Sentiment Analysis\n",
    "\n",
    "**Sentiment analysis** determines whether text expresses positive, negative, or neutral emotions using word lists.\n",
    "\n",
    "- Useful for: analyzing public opinion, customer feedback, or political discourse."
   ]
  },
  {
   "cell_type": "code",
   "execution_count": 10,
   "metadata": {},
   "outputs": [
    {
     "name": "stdout",
     "output_type": "stream",
     "text": [
      "Sentiment Analysis: {'sentiment': 'positive', 'positive_words': ['love'], 'negative_words': [], 'score': 1}\n"
     ]
    }
   ],
   "source": [
    "def analyze_sentiment_basic(text):\n",
    "    \"\"\"\n",
    "    Perform basic sentiment analysis to determine if text expresses positive or negative emotions.\n",
    "    \"\"\"\n",
    "    positive_words = {'good', 'great', 'excellent', 'amazing', 'wonderful', 'fantastic',\n",
    "                      'love', 'like', 'enjoy', 'happy', 'pleased', 'satisfied', 'positive',\n",
    "                      'benefit', 'advantage', 'success', 'improve', 'better', 'best'}\n",
    "    negative_words = {'bad', 'terrible', 'awful', 'horrible', 'hate', 'dislike', 'angry',\n",
    "                      'sad', 'disappointed', 'frustrated', 'negative', 'problem', 'issue',\n",
    "                      'difficult', 'hard', 'impossible', 'fail', 'failure', 'worse', 'worst'}\n",
    "    doc = nlp(text.lower())\n",
    "    found_positive = []\n",
    "    found_negative = []\n",
    "    for token in doc:\n",
    "        if token.lemma_ in positive_words:\n",
    "            found_positive.append(token.text)\n",
    "        elif token.lemma_ in negative_words:\n",
    "            found_negative.append(token.text)\n",
    "    score = len(found_positive) - len(found_negative)\n",
    "    if score > 0:\n",
    "        sentiment = 'positive'\n",
    "    elif score < 0:\n",
    "        sentiment = 'negative'\n",
    "    else:\n",
    "        sentiment = 'neutral'\n",
    "    return {\n",
    "        'sentiment': sentiment,\n",
    "        'positive_words': found_positive,\n",
    "        'negative_words': found_negative,\n",
    "        'score': score\n",
    "    }\n",
    "\n",
    "sentiment_result = analyze_sentiment_basic(\"I love Natural Language Processing, but sometimes it is challenging.\")\n",
    "print(\"Sentiment Analysis:\", sentiment_result)"
   ]
  },
  {
   "cell_type": "markdown",
   "metadata": {},
   "source": [
    "## 10. Text Statistics\n",
    "\n",
    "**Text statistics** provide quantitative measures of text complexity and structure, such as word count, sentence count, and lexical diversity.\n",
    "\n",
    "- Useful for: comparing documents, analyzing readability, and studying vocabulary richness."
   ]
  },
  {
   "cell_type": "code",
   "execution_count": 11,
   "metadata": {},
   "outputs": [
    {
     "name": "stdout",
     "output_type": "stream",
     "text": [
      "Text Statistics: {'word_count': 21, 'sentence_count': 2, 'character_count': 151, 'avg_words_per_sentence': 10.5, 'avg_characters_per_word': 6.14, 'unique_words': 20, 'lexical_diversity': 0.952, 'pos_distribution': {'PROPN': 9.523809523809524, 'NOUN': 28.57142857142857, 'VERB': 19.047619047619047, 'PART': 4.761904761904762, 'ADJ': 9.523809523809524, 'ADP': 9.523809523809524, 'PRON': 4.761904761904762, 'ADV': 14.285714285714285}}\n"
     ]
    }
   ],
   "source": [
    "def get_text_statistics(text):\n",
    "    \"\"\"\n",
    "    Calculate comprehensive statistics about a text document.\n",
    "    \"\"\"\n",
    "    doc = nlp(text)\n",
    "    words = [token for token in doc if not token.is_space and not token.is_punct]\n",
    "    sentences = list(doc.sents)\n",
    "    word_count = len(words)\n",
    "    sentence_count = len(sentences)\n",
    "    character_count = len(text)\n",
    "    avg_words_per_sentence = word_count / sentence_count if sentence_count > 0 else 0\n",
    "    word_lengths = [len(token.text) for token in words]\n",
    "    avg_characters_per_word = sum(word_lengths) / len(word_lengths) if word_lengths else 0\n",
    "    word_texts = [token.text.lower() for token in words if token.is_alpha]\n",
    "    unique_words = len(set(word_texts))\n",
    "    lexical_diversity = unique_words / len(word_texts) if word_texts else 0\n",
    "    pos_counts = {}\n",
    "    for token in words:\n",
    "        pos = token.pos_\n",
    "        pos_counts[pos] = pos_counts.get(pos, 0) + 1\n",
    "    pos_distribution = {pos: (count/word_count)*100 for pos, count in pos_counts.items()}\n",
    "    return {\n",
    "        'word_count': word_count,\n",
    "        'sentence_count': sentence_count,\n",
    "        'character_count': character_count,\n",
    "        'avg_words_per_sentence': round(avg_words_per_sentence, 2),\n",
    "        'avg_characters_per_word': round(avg_characters_per_word, 2),\n",
    "        'unique_words': unique_words,\n",
    "        'lexical_diversity': round(lexical_diversity, 3),\n",
    "        'pos_distribution': pos_distribution\n",
    "    }\n",
    "stats = get_text_statistics(text)\n",
    "print(\"Text Statistics:\", stats)"
   ]
  },
  {
   "cell_type": "markdown",
   "metadata": {},
   "source": [
    "## 11. Comparing Vocabulary Between Texts\n",
    "\n",
    "**Vocabulary comparison** helps identify similarities and differences in word usage between two texts.\n",
    "\n",
    "- Useful for: comparing speeches, analyzing language differences between groups, or studying terminology evolution."
   ]
  },
  {
   "cell_type": "code",
   "execution_count": 12,
   "metadata": {},
   "outputs": [
    {
     "name": "stdout",
     "output_type": "stream",
     "text": [
      "Vocabulary Comparison: {'common_words': {}, 'unique_to_text1': {'language': 2, 'processing': 1, 'human': 1, 'computer': 1, 'enable': 1, 'natural': 1, 'understand': 1}, 'unique_to_text2': {'learning': 2, 'deep': 1, 'important': 1, 'machine': 1, 'artificial': 1, 'intelligence': 1}, 'similarity_score': 0.0}\n",
      "Vocabulary Comparison: {'common_words': {'processing': {'text1_freq': 1, 'text2_freq': 1}, 'human': {'text1_freq': 1, 'text2_freq': 1}, 'text': {'text1_freq': 1, 'text2_freq': 1}, 'language': {'text1_freq': 2, 'text2_freq': 2}, 'natural': {'text1_freq': 1, 'text2_freq': 1}}, 'unique_to_text1': {'analyze': 1, 'computer': 1, 'understand': 1, 'help': 1, 'datum': 1, 'efficiently': 1}, 'unique_to_text2': {'comprehend': 1, 'machine': 1, 'enable': 1, 'process': 1, 'analytic': 1, 'quickly': 1}, 'similarity_score': 29.41}\n"
     ]
    },
    {
     "name": "stdout",
     "output_type": "stream",
     "text": [
      "Collecting en-core-web-sm==3.8.0\n",
      "  Using cached https://github.com/explosion/spacy-models/releases/download/en_core_web_sm-3.8.0/en_core_web_sm-3.8.0-py3-none-any.whl (12.8 MB)\n",
      "\u001b[38;5;2m✔ Download and installation successful\u001b[0m\n",
      "You can now load the package via spacy.load('en_core_web_sm')\n"
     ]
    }
   ],
   "source": [
    "def compare_texts_vocabulary(text1, text2, top_n=10):\n",
    "    \"\"\"\n",
    "    Compare the vocabulary usage between two texts to identify similarities and differences.\n",
    "    \"\"\"\n",
    "    doc1 = nlp(text1.lower())\n",
    "    doc2 = nlp(text2.lower())\n",
    "    words1 = [token.lemma_ for token in doc1 if not token.is_stop and not token.is_punct\n",
    "              and token.is_alpha and len(token.text) > 2]\n",
    "    words2 = [token.lemma_ for token in doc2 if not token.is_stop and not token.is_punct\n",
    "              and token.is_alpha and len(token.text) > 2]\n",
    "    freq1 = Counter(words1)\n",
    "    freq2 = Counter(words2)\n",
    "    set1 = set(freq1.keys())\n",
    "    set2 = set(freq2.keys())\n",
    "    common_words = {}\n",
    "    for word in set1.intersection(set2):\n",
    "        common_words[word] = {'text1_freq': freq1[word], 'text2_freq': freq2[word]}\n",
    "    unique_to_text1 = {word: freq1[word] for word in set1 - set2}\n",
    "    unique_to_text2 = {word: freq2[word] for word in set2 - set1}\n",
    "    unique_to_text1 = dict(sorted(unique_to_text1.items(), key=lambda x: x[1], reverse=True)[:top_n])\n",
    "    unique_to_text2 = dict(sorted(unique_to_text2.items(), key=lambda x: x[1], reverse=True)[:top_n])\n",
    "    total_unique_words = len(set1.union(set2))\n",
    "    similarity_score = (len(common_words) / total_unique_words * 100) if total_unique_words > 0 else 0\n",
    "    return {\n",
    "        'common_words': common_words,\n",
    "        'unique_to_text1': unique_to_text1,\n",
    "        'unique_to_text2': unique_to_text2,\n",
    "        'similarity_score': round(similarity_score, 2)\n",
    "    }\n",
    "\n",
    "# Two different texts for vocabulary comparison\n",
    "text1 = \"Natural Language Processing enables computers to understand human language.\"\n",
    "text2 = \"Machine learning and deep learning are important for artificial intelligence.\"\n",
    "\n",
    "comparison = compare_texts_vocabulary(text1, text2)\n",
    "print(\"Vocabulary Comparison:\", comparison)\n",
    "\n",
    "\n",
    "# Two similar texts for vocabulary comparison\n",
    "text1 = \"Natural Language Processing helps computers understand human language and analyze text data efficiently.\"\n",
    "text2 = \"Text analytics and Natural Language Processing enable machines to process and comprehend human language quickly.\"\n",
    "\n",
    "# Compare vocabulary usage between the two texts\n",
    "comparison_result = compare_texts_vocabulary(text1, text2)\n",
    "print(\"Vocabulary Comparison:\", comparison_result)"
   ]
  },
  {
   "cell_type": "markdown",
   "metadata": {},
   "source": [
    "## Conclusion\n",
    "\n",
    "In this tutorial, we explored a comprehensive set of text pre-processing techniques using Python, spaCy, and scikit-learn. Starting from basic tokenization and stopword removal, we progressed through lemmatization, sentence segmentation, named entity recognition, and keyword extraction with TF-IDF. We also covered sentiment analysis, text statistics, and vocabulary comparison between texts.\n",
    "\n",
    "These foundational steps are essential for preparing and analyzing textual data in any Natural Language Processing (NLP) project. By mastering these techniques, you can unlock deeper insights from your data, improve the performance of downstream models, and make your analyses more robust and interpretable.\n",
    "\n",
    "Feel free to experiment further with your own texts and datasets. Text pre-processing is a powerful tool—use it to make your NLP workflows more effective and"
   ]
  }
 ],
 "metadata": {
  "kernelspec": {
   "display_name": "uni",
   "language": "python",
   "name": "python3"
  },
  "language_info": {
   "codemirror_mode": {
    "name": "ipython",
    "version": 3
   },
   "file_extension": ".py",
   "mimetype": "text/x-python",
   "name": "python",
   "nbconvert_exporter": "python",
   "pygments_lexer": "ipython3",
   "version": "3.10.16"
  }
 },
 "nbformat": 4,
 "nbformat_minor": 2
}
